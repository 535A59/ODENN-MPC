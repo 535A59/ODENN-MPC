{
 "cells": [
  {
   "cell_type": "code",
   "execution_count": 1,
   "id": "67d31e2c",
   "metadata": {},
   "outputs": [
    {
     "name": "stdout",
     "output_type": "stream",
     "text": [
      "Using device: cpu\n",
      "Scalers have been saved.\n"
     ]
    }
   ],
   "source": [
    "import torch\n",
    "import torch.nn as nn\n",
    "import torch.optim as optim\n",
    "from torch.utils.data import DataLoader, Dataset\n",
    "import numpy as np\n",
    "from sklearn.preprocessing import StandardScaler, MaxAbsScaler \n",
    "import matplotlib.pyplot as plt\n",
    "from tqdm import tqdm\n",
    "from torchdiffeq import odeint\n",
    "\n",
    "N_X_FEATURES = 7  \n",
    "N_U_FEATURES = 2  \n",
    "DEVICE = torch.device(\"cuda\" if torch.cuda.is_available() else  \"cpu\")\n",
    "\n",
    "print(f\"Using device: {DEVICE}\")\n",
    "\n",
    "data_dir = \"Data/CMG/train\"\n",
    "X_flat = np.load(f'{data_dir}/Xdata.npy')\n",
    "XP_flat = np.load(f'{data_dir}/XPdata.npy')\n",
    "U_flat = np.load(f'{data_dir}/Udata.npy')\n",
    "\n",
    "\n",
    "SEQ_LEN_TEST = 5000\n",
    "X_train, X_test = X_flat[:-SEQ_LEN_TEST,:N_X_FEATURES], X_flat[-SEQ_LEN_TEST:,:N_X_FEATURES]\n",
    "U_train, U_test = U_flat[:-SEQ_LEN_TEST], U_flat[-SEQ_LEN_TEST:]\n",
    "XP_train, XP_test = XP_flat[:-SEQ_LEN_TEST,:N_X_FEATURES], XP_flat[-SEQ_LEN_TEST:,:N_X_FEATURES]\n",
    "\n",
    "scaler_x = StandardScaler()\n",
    "scaler_u = StandardScaler()\n",
    "\n",
    "X_train_scaled = scaler_x.fit_transform(X_train)\n",
    "X_test_scaled = scaler_x.transform(X_test)\n",
    "XP_train_scaled = scaler_x.transform(XP_train)\n",
    "XP_test_scaled = scaler_x.transform(XP_test)\n",
    "\n",
    "U_train_scaled = scaler_u.fit_transform(U_train)\n",
    "U_test_scaled = scaler_u.transform(U_test)\n",
    "\n",
    "class SingleStepDataset(Dataset):\n",
    "    def __init__(self, x_data, u_data, xp_data):\n",
    "        self.x = torch.from_numpy(x_data).float()\n",
    "        self.u = torch.from_numpy(u_data).float()\n",
    "        self.xp = torch.from_numpy(xp_data).float()\n",
    "\n",
    "    def __len__(self):\n",
    "        return len(self.x)\n",
    "\n",
    "    def __getitem__(self, idx):\n",
    "        return self.x[idx], self.u[idx], self.xp[idx]\n",
    "\n",
    "train_dataset = SingleStepDataset(X_train_scaled, U_train_scaled, XP_train_scaled)\n",
    "test_dataset = SingleStepDataset(X_test_scaled, U_test_scaled, XP_test_scaled)\n",
    "\n",
    "train_loader = DataLoader(train_dataset, batch_size=128, shuffle=True)\n",
    "test_loader = DataLoader(test_dataset, batch_size=1, shuffle=False)\n",
    "\n",
    "import joblib\n",
    "joblib.dump(scaler_x, 'scaler_x.joblib')\n",
    "joblib.dump(scaler_u, 'scaler_u.joblib')\n",
    "print(\"Scalers have been saved.\")\n",
    "\n"
   ]
  },
  {
   "cell_type": "code",
   "execution_count": 2,
   "id": "81aaac8e",
   "metadata": {},
   "outputs": [],
   "source": [
    "\n",
    "class ODEDynamics(nn.Module):\n",
    "    def __init__(self, x_dim, u_dim, hidden_dim=256):\n",
    "        super(ODEDynamics, self).__init__()\n",
    "        # 神经网络用于逼近 f\n",
    "        self.net = nn.Sequential(\n",
    "            nn.Linear(x_dim + u_dim, hidden_dim),\n",
    "            nn.Tanh(),\n",
    "            nn.Linear(hidden_dim, hidden_dim),\n",
    "            nn.Tanh(),\n",
    "            nn.Linear(hidden_dim, x_dim),\n",
    "        )\n",
    "\n",
    "    def forward(self, t, state_and_control):\n",
    "        # 将状态 x 和控制 u 分离\n",
    "        x, u = state_and_control\n",
    "        # 将 x 和 u 拼接作为网络输入\n",
    "        xu = torch.cat([x, u], dim=1)\n",
    "        return self.net(xu)\n",
    "\n",
    "\n",
    "\n",
    "class NeuralODE(nn.Module):\n",
    "    def __init__(self, dynamics_func, solver='dopri5', rtol=1e-5, atol=1e-5):\n",
    "        super(NeuralODE, self).__init__()\n",
    "        self.dynamics_func = dynamics_func\n",
    "        self.solver = solver\n",
    "        self.rtol = rtol\n",
    "        self.atol = atol\n",
    "\n",
    "    def forward(self, x0, u, t_span):\n",
    "        def wrapped_dynamics(t, x):\n",
    "            return self.dynamics_func(t, (x, u))\n",
    "        pred_x = odeint(wrapped_dynamics, x0, t_span,\n",
    "                        method=self.solver, rtol=self.rtol, atol=self.atol)\n",
    "        return pred_x[-1]\n"
   ]
  },
  {
   "cell_type": "code",
   "execution_count": null,
   "id": "3b1a2054",
   "metadata": {},
   "outputs": [
    {
     "name": "stderr",
     "output_type": "stream",
     "text": [
      "Epoch 1/100: 100%|██████████| 1524/1524 [00:15<00:00, 98.47it/s] \n"
     ]
    },
    {
     "name": "stdout",
     "output_type": "stream",
     "text": [
      "Epoch 1/100, Train Loss: 0.000880, Test Loss: 0.000065\n"
     ]
    },
    {
     "name": "stderr",
     "output_type": "stream",
     "text": [
      "Epoch 2/100: 100%|██████████| 1524/1524 [00:07<00:00, 205.48it/s]\n"
     ]
    },
    {
     "name": "stdout",
     "output_type": "stream",
     "text": [
      "Epoch 2/100, Train Loss: 0.000108, Test Loss: 0.000021\n"
     ]
    },
    {
     "name": "stderr",
     "output_type": "stream",
     "text": [
      "Epoch 3/100: 100%|██████████| 1524/1524 [00:07<00:00, 194.09it/s]\n"
     ]
    },
    {
     "name": "stdout",
     "output_type": "stream",
     "text": [
      "Epoch 3/100, Train Loss: 0.000050, Test Loss: 0.000014\n"
     ]
    },
    {
     "name": "stderr",
     "output_type": "stream",
     "text": [
      "Epoch 4/100: 100%|██████████| 1524/1524 [00:07<00:00, 212.44it/s]\n"
     ]
    },
    {
     "name": "stdout",
     "output_type": "stream",
     "text": [
      "Epoch 4/100, Train Loss: 0.000032, Test Loss: 0.000008\n"
     ]
    },
    {
     "name": "stderr",
     "output_type": "stream",
     "text": [
      "Epoch 5/100: 100%|██████████| 1524/1524 [00:07<00:00, 208.46it/s]\n"
     ]
    },
    {
     "name": "stdout",
     "output_type": "stream",
     "text": [
      "Epoch 5/100, Train Loss: 0.000023, Test Loss: 0.000008\n"
     ]
    },
    {
     "name": "stderr",
     "output_type": "stream",
     "text": [
      "Epoch 6/100: 100%|██████████| 1524/1524 [00:07<00:00, 199.49it/s]\n"
     ]
    },
    {
     "name": "stdout",
     "output_type": "stream",
     "text": [
      "Epoch 6/100, Train Loss: 0.000018, Test Loss: 0.000011\n"
     ]
    },
    {
     "name": "stderr",
     "output_type": "stream",
     "text": [
      "Epoch 7/100: 100%|██████████| 1524/1524 [00:08<00:00, 176.48it/s]\n"
     ]
    },
    {
     "name": "stdout",
     "output_type": "stream",
     "text": [
      "Epoch 7/100, Train Loss: 0.000015, Test Loss: 0.000005\n"
     ]
    },
    {
     "name": "stderr",
     "output_type": "stream",
     "text": [
      "Epoch 8/100: 100%|██████████| 1524/1524 [00:09<00:00, 165.52it/s]\n"
     ]
    },
    {
     "name": "stdout",
     "output_type": "stream",
     "text": [
      "Epoch 8/100, Train Loss: 0.000013, Test Loss: 0.000005\n"
     ]
    },
    {
     "name": "stderr",
     "output_type": "stream",
     "text": [
      "Epoch 9/100: 100%|██████████| 1524/1524 [00:08<00:00, 173.09it/s]\n"
     ]
    },
    {
     "name": "stdout",
     "output_type": "stream",
     "text": [
      "Epoch 9/100, Train Loss: 0.000012, Test Loss: 0.000008\n"
     ]
    },
    {
     "name": "stderr",
     "output_type": "stream",
     "text": [
      "Epoch 10/100: 100%|██████████| 1524/1524 [00:07<00:00, 193.90it/s]\n"
     ]
    },
    {
     "name": "stdout",
     "output_type": "stream",
     "text": [
      "Epoch 10/100, Train Loss: 0.000011, Test Loss: 0.000003\n"
     ]
    },
    {
     "name": "stderr",
     "output_type": "stream",
     "text": [
      "Epoch 11/100: 100%|██████████| 1524/1524 [00:09<00:00, 157.15it/s]\n"
     ]
    },
    {
     "name": "stdout",
     "output_type": "stream",
     "text": [
      "Epoch 11/100, Train Loss: 0.000010, Test Loss: 0.000004\n"
     ]
    },
    {
     "name": "stderr",
     "output_type": "stream",
     "text": [
      "Epoch 12/100: 100%|██████████| 1524/1524 [00:19<00:00, 79.32it/s]\n"
     ]
    },
    {
     "name": "stdout",
     "output_type": "stream",
     "text": [
      "Epoch 12/100, Train Loss: 0.000009, Test Loss: 0.000006\n"
     ]
    },
    {
     "name": "stderr",
     "output_type": "stream",
     "text": [
      "Epoch 13/100: 100%|██████████| 1524/1524 [00:39<00:00, 38.83it/s]\n"
     ]
    },
    {
     "name": "stdout",
     "output_type": "stream",
     "text": [
      "Epoch 13/100, Train Loss: 0.000010, Test Loss: 0.000004\n"
     ]
    },
    {
     "name": "stderr",
     "output_type": "stream",
     "text": [
      "Epoch 14/100: 100%|██████████| 1524/1524 [00:22<00:00, 68.80it/s] \n"
     ]
    },
    {
     "name": "stdout",
     "output_type": "stream",
     "text": [
      "Epoch 14/100, Train Loss: 0.000009, Test Loss: 0.000003\n"
     ]
    },
    {
     "name": "stderr",
     "output_type": "stream",
     "text": [
      "Epoch 15/100: 100%|██████████| 1524/1524 [00:18<00:00, 82.73it/s] \n"
     ]
    },
    {
     "name": "stdout",
     "output_type": "stream",
     "text": [
      "Epoch 15/100, Train Loss: 0.000008, Test Loss: 0.000004\n"
     ]
    },
    {
     "name": "stderr",
     "output_type": "stream",
     "text": [
      "Epoch 16/100: 100%|██████████| 1524/1524 [00:20<00:00, 75.79it/s]\n"
     ]
    },
    {
     "name": "stdout",
     "output_type": "stream",
     "text": [
      "Epoch 16/100, Train Loss: 0.000008, Test Loss: 0.000004\n"
     ]
    },
    {
     "name": "stderr",
     "output_type": "stream",
     "text": [
      "Epoch 17/100: 100%|██████████| 1524/1524 [00:27<00:00, 56.32it/s] \n"
     ]
    },
    {
     "name": "stdout",
     "output_type": "stream",
     "text": [
      "Epoch 17/100, Train Loss: 0.000008, Test Loss: 0.000005\n"
     ]
    },
    {
     "name": "stderr",
     "output_type": "stream",
     "text": [
      "Epoch 18/100: 100%|██████████| 1524/1524 [00:16<00:00, 90.40it/s] \n"
     ]
    },
    {
     "name": "stdout",
     "output_type": "stream",
     "text": [
      "Epoch 18/100, Train Loss: 0.000007, Test Loss: 0.000003\n"
     ]
    },
    {
     "name": "stderr",
     "output_type": "stream",
     "text": [
      "Epoch 19/100: 100%|██████████| 1524/1524 [00:19<00:00, 79.06it/s] \n"
     ]
    },
    {
     "name": "stdout",
     "output_type": "stream",
     "text": [
      "Epoch 19/100, Train Loss: 0.000008, Test Loss: 0.000007\n"
     ]
    },
    {
     "name": "stderr",
     "output_type": "stream",
     "text": [
      "Epoch 20/100: 100%|██████████| 1524/1524 [00:20<00:00, 72.70it/s]\n"
     ]
    },
    {
     "name": "stdout",
     "output_type": "stream",
     "text": [
      "Epoch 20/100, Train Loss: 0.000007, Test Loss: 0.000003\n"
     ]
    },
    {
     "name": "stderr",
     "output_type": "stream",
     "text": [
      "Epoch 21/100: 100%|██████████| 1524/1524 [00:14<00:00, 101.94it/s]\n"
     ]
    },
    {
     "name": "stdout",
     "output_type": "stream",
     "text": [
      "Epoch 21/100, Train Loss: 0.000007, Test Loss: 0.000003\n"
     ]
    },
    {
     "name": "stderr",
     "output_type": "stream",
     "text": [
      "Epoch 22/100: 100%|██████████| 1524/1524 [00:19<00:00, 79.78it/s]\n"
     ]
    },
    {
     "name": "stdout",
     "output_type": "stream",
     "text": [
      "Epoch 22/100, Train Loss: 0.000007, Test Loss: 0.000003\n"
     ]
    },
    {
     "name": "stderr",
     "output_type": "stream",
     "text": [
      "Epoch 23/100: 100%|██████████| 1524/1524 [00:16<00:00, 92.66it/s] \n"
     ]
    },
    {
     "name": "stdout",
     "output_type": "stream",
     "text": [
      "Epoch 23/100, Train Loss: 0.000007, Test Loss: 0.000002\n"
     ]
    },
    {
     "name": "stderr",
     "output_type": "stream",
     "text": [
      "Epoch 24/100: 100%|██████████| 1524/1524 [00:15<00:00, 100.32it/s]\n"
     ]
    },
    {
     "name": "stdout",
     "output_type": "stream",
     "text": [
      "Epoch 24/100, Train Loss: 0.000007, Test Loss: 0.000003\n"
     ]
    },
    {
     "name": "stderr",
     "output_type": "stream",
     "text": [
      "Epoch 25/100: 100%|██████████| 1524/1524 [00:21<00:00, 71.70it/s]\n"
     ]
    },
    {
     "name": "stdout",
     "output_type": "stream",
     "text": [
      "Epoch 25/100, Train Loss: 0.000007, Test Loss: 0.000003\n"
     ]
    },
    {
     "name": "stderr",
     "output_type": "stream",
     "text": [
      "Epoch 26/100: 100%|██████████| 1524/1524 [00:15<00:00, 100.84it/s]\n"
     ]
    },
    {
     "name": "stdout",
     "output_type": "stream",
     "text": [
      "Epoch 26/100, Train Loss: 0.000007, Test Loss: 0.000004\n"
     ]
    },
    {
     "name": "stderr",
     "output_type": "stream",
     "text": [
      "Epoch 27/100: 100%|██████████| 1524/1524 [00:12<00:00, 125.18it/s]\n"
     ]
    },
    {
     "name": "stdout",
     "output_type": "stream",
     "text": [
      "Epoch 27/100, Train Loss: 0.000006, Test Loss: 0.000002\n"
     ]
    },
    {
     "name": "stderr",
     "output_type": "stream",
     "text": [
      "Epoch 28/100: 100%|██████████| 1524/1524 [00:19<00:00, 77.75it/s] \n"
     ]
    },
    {
     "name": "stdout",
     "output_type": "stream",
     "text": [
      "Epoch 28/100, Train Loss: 0.000007, Test Loss: 0.000004\n"
     ]
    },
    {
     "name": "stderr",
     "output_type": "stream",
     "text": [
      "Epoch 29/100: 100%|██████████| 1524/1524 [00:20<00:00, 73.11it/s]\n"
     ]
    },
    {
     "name": "stdout",
     "output_type": "stream",
     "text": [
      "Epoch 29/100, Train Loss: 0.000007, Test Loss: 0.000003\n"
     ]
    },
    {
     "name": "stderr",
     "output_type": "stream",
     "text": [
      "Epoch 30/100: 100%|██████████| 1524/1524 [00:15<00:00, 95.44it/s] \n"
     ]
    },
    {
     "name": "stdout",
     "output_type": "stream",
     "text": [
      "Epoch 30/100, Train Loss: 0.000006, Test Loss: 0.000003\n"
     ]
    },
    {
     "name": "stderr",
     "output_type": "stream",
     "text": [
      "Epoch 31/100: 100%|██████████| 1524/1524 [00:13<00:00, 111.94it/s]\n"
     ]
    },
    {
     "name": "stdout",
     "output_type": "stream",
     "text": [
      "Epoch 31/100, Train Loss: 0.000007, Test Loss: 0.000003\n"
     ]
    },
    {
     "name": "stderr",
     "output_type": "stream",
     "text": [
      "Epoch 32/100: 100%|██████████| 1524/1524 [00:17<00:00, 89.37it/s]\n"
     ]
    },
    {
     "name": "stdout",
     "output_type": "stream",
     "text": [
      "Epoch 32/100, Train Loss: 0.000007, Test Loss: 0.000002\n"
     ]
    },
    {
     "name": "stderr",
     "output_type": "stream",
     "text": [
      "Epoch 33/100: 100%|██████████| 1524/1524 [00:21<00:00, 70.17it/s]\n"
     ]
    },
    {
     "name": "stdout",
     "output_type": "stream",
     "text": [
      "Epoch 33/100, Train Loss: 0.000006, Test Loss: 0.000002\n"
     ]
    },
    {
     "name": "stderr",
     "output_type": "stream",
     "text": [
      "Epoch 34/100: 100%|██████████| 1524/1524 [00:22<00:00, 66.79it/s] \n"
     ]
    },
    {
     "name": "stdout",
     "output_type": "stream",
     "text": [
      "Epoch 34/100, Train Loss: 0.000006, Test Loss: 0.000002\n"
     ]
    },
    {
     "name": "stderr",
     "output_type": "stream",
     "text": [
      "Epoch 35/100: 100%|██████████| 1524/1524 [00:22<00:00, 67.35it/s]\n"
     ]
    },
    {
     "name": "stdout",
     "output_type": "stream",
     "text": [
      "Epoch 35/100, Train Loss: 0.000006, Test Loss: 0.000002\n"
     ]
    },
    {
     "name": "stderr",
     "output_type": "stream",
     "text": [
      "Epoch 36/100: 100%|██████████| 1524/1524 [00:19<00:00, 79.11it/s]\n"
     ]
    },
    {
     "name": "stdout",
     "output_type": "stream",
     "text": [
      "Epoch 36/100, Train Loss: 0.000006, Test Loss: 0.000003\n"
     ]
    },
    {
     "name": "stderr",
     "output_type": "stream",
     "text": [
      "Epoch 37/100: 100%|██████████| 1524/1524 [00:19<00:00, 78.84it/s]\n"
     ]
    },
    {
     "name": "stdout",
     "output_type": "stream",
     "text": [
      "Epoch 37/100, Train Loss: 0.000006, Test Loss: 0.000003\n"
     ]
    },
    {
     "name": "stderr",
     "output_type": "stream",
     "text": [
      "Epoch 38/100: 100%|██████████| 1524/1524 [00:22<00:00, 66.60it/s] \n"
     ]
    },
    {
     "name": "stdout",
     "output_type": "stream",
     "text": [
      "Epoch 38/100, Train Loss: 0.000006, Test Loss: 0.000004\n"
     ]
    },
    {
     "name": "stderr",
     "output_type": "stream",
     "text": [
      "Epoch 39/100: 100%|██████████| 1524/1524 [00:20<00:00, 75.85it/s]\n"
     ]
    },
    {
     "name": "stdout",
     "output_type": "stream",
     "text": [
      "Epoch 39/100, Train Loss: 0.000006, Test Loss: 0.000004\n"
     ]
    },
    {
     "name": "stderr",
     "output_type": "stream",
     "text": [
      "Epoch 40/100: 100%|██████████| 1524/1524 [00:21<00:00, 71.82it/s]\n"
     ]
    },
    {
     "name": "stdout",
     "output_type": "stream",
     "text": [
      "Epoch 40/100, Train Loss: 0.000006, Test Loss: 0.000004\n"
     ]
    },
    {
     "name": "stderr",
     "output_type": "stream",
     "text": [
      "Epoch 41/100: 100%|██████████| 1524/1524 [00:35<00:00, 43.50it/s]\n"
     ]
    },
    {
     "name": "stdout",
     "output_type": "stream",
     "text": [
      "Epoch 41/100, Train Loss: 0.000006, Test Loss: 0.000003\n"
     ]
    },
    {
     "name": "stderr",
     "output_type": "stream",
     "text": [
      "Epoch 42/100: 100%|██████████| 1524/1524 [00:28<00:00, 53.02it/s]\n"
     ]
    },
    {
     "name": "stdout",
     "output_type": "stream",
     "text": [
      "Epoch 42/100, Train Loss: 0.000005, Test Loss: 0.000003\n"
     ]
    },
    {
     "name": "stderr",
     "output_type": "stream",
     "text": [
      "Epoch 43/100: 100%|██████████| 1524/1524 [00:21<00:00, 69.57it/s]\n"
     ]
    },
    {
     "name": "stdout",
     "output_type": "stream",
     "text": [
      "Epoch 43/100, Train Loss: 0.000006, Test Loss: 0.000002\n"
     ]
    },
    {
     "name": "stderr",
     "output_type": "stream",
     "text": [
      "Epoch 44/100: 100%|██████████| 1524/1524 [00:27<00:00, 55.08it/s]\n"
     ]
    },
    {
     "name": "stdout",
     "output_type": "stream",
     "text": [
      "Epoch 44/100, Train Loss: 0.000005, Test Loss: 0.000003\n"
     ]
    },
    {
     "name": "stderr",
     "output_type": "stream",
     "text": [
      "Epoch 45/100: 100%|██████████| 1524/1524 [00:18<00:00, 81.61it/s] \n"
     ]
    },
    {
     "name": "stdout",
     "output_type": "stream",
     "text": [
      "Epoch 45/100, Train Loss: 0.000005, Test Loss: 0.000005\n"
     ]
    },
    {
     "name": "stderr",
     "output_type": "stream",
     "text": [
      "Epoch 46/100: 100%|██████████| 1524/1524 [00:26<00:00, 57.21it/s]\n"
     ]
    },
    {
     "name": "stdout",
     "output_type": "stream",
     "text": [
      "Epoch 46/100, Train Loss: 0.000006, Test Loss: 0.000003\n"
     ]
    },
    {
     "name": "stderr",
     "output_type": "stream",
     "text": [
      "Epoch 47/100: 100%|██████████| 1524/1524 [00:30<00:00, 50.68it/s]\n"
     ]
    },
    {
     "name": "stdout",
     "output_type": "stream",
     "text": [
      "Epoch 47/100, Train Loss: 0.000005, Test Loss: 0.000003\n"
     ]
    },
    {
     "name": "stderr",
     "output_type": "stream",
     "text": [
      "Epoch 48/100: 100%|██████████| 1524/1524 [00:20<00:00, 73.97it/s]\n"
     ]
    },
    {
     "name": "stdout",
     "output_type": "stream",
     "text": [
      "Epoch 48/100, Train Loss: 0.000006, Test Loss: 0.000002\n"
     ]
    },
    {
     "name": "stderr",
     "output_type": "stream",
     "text": [
      "Epoch 49/100: 100%|██████████| 1524/1524 [00:20<00:00, 72.64it/s]\n"
     ]
    },
    {
     "name": "stdout",
     "output_type": "stream",
     "text": [
      "Epoch 49/100, Train Loss: 0.000005, Test Loss: 0.000003\n"
     ]
    },
    {
     "name": "stderr",
     "output_type": "stream",
     "text": [
      "Epoch 50/100: 100%|██████████| 1524/1524 [00:22<00:00, 68.07it/s]\n"
     ]
    },
    {
     "name": "stdout",
     "output_type": "stream",
     "text": [
      "Epoch 50/100, Train Loss: 0.000005, Test Loss: 0.000003\n"
     ]
    },
    {
     "name": "stderr",
     "output_type": "stream",
     "text": [
      "Epoch 51/100: 100%|██████████| 1524/1524 [00:22<00:00, 66.48it/s]\n"
     ]
    },
    {
     "name": "stdout",
     "output_type": "stream",
     "text": [
      "Epoch 51/100, Train Loss: 0.000006, Test Loss: 0.000003\n"
     ]
    },
    {
     "name": "stderr",
     "output_type": "stream",
     "text": [
      "Epoch 52/100: 100%|██████████| 1524/1524 [00:22<00:00, 66.43it/s]\n"
     ]
    },
    {
     "name": "stdout",
     "output_type": "stream",
     "text": [
      "Epoch 52/100, Train Loss: 0.000005, Test Loss: 0.000002\n"
     ]
    },
    {
     "name": "stderr",
     "output_type": "stream",
     "text": [
      "Epoch 53/100: 100%|██████████| 1524/1524 [00:23<00:00, 65.51it/s] \n"
     ]
    },
    {
     "name": "stdout",
     "output_type": "stream",
     "text": [
      "Epoch 53/100, Train Loss: 0.000005, Test Loss: 0.000004\n"
     ]
    },
    {
     "name": "stderr",
     "output_type": "stream",
     "text": [
      "Epoch 54/100: 100%|██████████| 1524/1524 [00:28<00:00, 54.20it/s]\n"
     ]
    },
    {
     "name": "stdout",
     "output_type": "stream",
     "text": [
      "Epoch 54/100, Train Loss: 0.000005, Test Loss: 0.000003\n"
     ]
    },
    {
     "name": "stderr",
     "output_type": "stream",
     "text": [
      "Epoch 55/100: 100%|██████████| 1524/1524 [00:25<00:00, 59.71it/s]\n"
     ]
    },
    {
     "name": "stdout",
     "output_type": "stream",
     "text": [
      "Epoch 55/100, Train Loss: 0.000005, Test Loss: 0.000002\n"
     ]
    },
    {
     "name": "stderr",
     "output_type": "stream",
     "text": [
      "Epoch 56/100: 100%|██████████| 1524/1524 [00:19<00:00, 77.79it/s]\n"
     ]
    },
    {
     "name": "stdout",
     "output_type": "stream",
     "text": [
      "Epoch 56/100, Train Loss: 0.000005, Test Loss: 0.000003\n"
     ]
    },
    {
     "name": "stderr",
     "output_type": "stream",
     "text": [
      "Epoch 57/100: 100%|██████████| 1524/1524 [00:24<00:00, 62.57it/s]\n"
     ]
    },
    {
     "name": "stdout",
     "output_type": "stream",
     "text": [
      "Epoch 57/100, Train Loss: 0.000005, Test Loss: 0.000003\n"
     ]
    },
    {
     "name": "stderr",
     "output_type": "stream",
     "text": [
      "Epoch 58/100: 100%|██████████| 1524/1524 [00:21<00:00, 69.62it/s]\n"
     ]
    },
    {
     "name": "stdout",
     "output_type": "stream",
     "text": [
      "Epoch 58/100, Train Loss: 0.000005, Test Loss: 0.000004\n"
     ]
    },
    {
     "name": "stderr",
     "output_type": "stream",
     "text": [
      "Epoch 59/100: 100%|██████████| 1524/1524 [00:22<00:00, 67.14it/s]\n"
     ]
    },
    {
     "name": "stdout",
     "output_type": "stream",
     "text": [
      "Epoch 59/100, Train Loss: 0.000005, Test Loss: 0.000004\n"
     ]
    },
    {
     "name": "stderr",
     "output_type": "stream",
     "text": [
      "Epoch 60/100: 100%|██████████| 1524/1524 [00:19<00:00, 77.74it/s]\n"
     ]
    },
    {
     "name": "stdout",
     "output_type": "stream",
     "text": [
      "Epoch 60/100, Train Loss: 0.000005, Test Loss: 0.000002\n"
     ]
    },
    {
     "name": "stderr",
     "output_type": "stream",
     "text": [
      "Epoch 61/100: 100%|██████████| 1524/1524 [00:19<00:00, 77.68it/s] \n"
     ]
    },
    {
     "name": "stdout",
     "output_type": "stream",
     "text": [
      "Epoch 61/100, Train Loss: 0.000005, Test Loss: 0.000002\n"
     ]
    },
    {
     "name": "stderr",
     "output_type": "stream",
     "text": [
      "Epoch 62/100: 100%|██████████| 1524/1524 [00:20<00:00, 74.92it/s]\n"
     ]
    },
    {
     "name": "stdout",
     "output_type": "stream",
     "text": [
      "Epoch 62/100, Train Loss: 0.000005, Test Loss: 0.000002\n"
     ]
    },
    {
     "name": "stderr",
     "output_type": "stream",
     "text": [
      "Epoch 63/100: 100%|██████████| 1524/1524 [00:21<00:00, 71.03it/s]\n"
     ]
    },
    {
     "name": "stdout",
     "output_type": "stream",
     "text": [
      "Epoch 63/100, Train Loss: 0.000005, Test Loss: 0.000002\n"
     ]
    },
    {
     "name": "stderr",
     "output_type": "stream",
     "text": [
      "Epoch 64/100: 100%|██████████| 1524/1524 [00:19<00:00, 80.12it/s]\n"
     ]
    },
    {
     "name": "stdout",
     "output_type": "stream",
     "text": [
      "Epoch 64/100, Train Loss: 0.000005, Test Loss: 0.000002\n"
     ]
    },
    {
     "name": "stderr",
     "output_type": "stream",
     "text": [
      "Epoch 65/100: 100%|██████████| 1524/1524 [00:20<00:00, 72.78it/s]\n"
     ]
    },
    {
     "name": "stdout",
     "output_type": "stream",
     "text": [
      "Epoch 65/100, Train Loss: 0.000005, Test Loss: 0.000002\n"
     ]
    },
    {
     "name": "stderr",
     "output_type": "stream",
     "text": [
      "Epoch 66/100: 100%|██████████| 1524/1524 [00:21<00:00, 71.45it/s]\n"
     ]
    },
    {
     "name": "stdout",
     "output_type": "stream",
     "text": [
      "Epoch 66/100, Train Loss: 0.000004, Test Loss: 0.000002\n"
     ]
    },
    {
     "name": "stderr",
     "output_type": "stream",
     "text": [
      "Epoch 67/100: 100%|██████████| 1524/1524 [00:21<00:00, 70.66it/s]\n"
     ]
    },
    {
     "name": "stdout",
     "output_type": "stream",
     "text": [
      "Epoch 67/100, Train Loss: 0.000005, Test Loss: 0.000001\n"
     ]
    },
    {
     "name": "stderr",
     "output_type": "stream",
     "text": [
      "Epoch 68/100: 100%|██████████| 1524/1524 [00:19<00:00, 80.06it/s]\n"
     ]
    },
    {
     "name": "stdout",
     "output_type": "stream",
     "text": [
      "Epoch 68/100, Train Loss: 0.000005, Test Loss: 0.000001\n"
     ]
    },
    {
     "name": "stderr",
     "output_type": "stream",
     "text": [
      "Epoch 69/100: 100%|██████████| 1524/1524 [00:17<00:00, 87.94it/s] \n"
     ]
    },
    {
     "name": "stdout",
     "output_type": "stream",
     "text": [
      "Epoch 69/100, Train Loss: 0.000005, Test Loss: 0.000002\n"
     ]
    },
    {
     "name": "stderr",
     "output_type": "stream",
     "text": [
      "Epoch 70/100: 100%|██████████| 1524/1524 [00:20<00:00, 76.09it/s]\n"
     ]
    },
    {
     "name": "stdout",
     "output_type": "stream",
     "text": [
      "Epoch 70/100, Train Loss: 0.000005, Test Loss: 0.000003\n"
     ]
    },
    {
     "name": "stderr",
     "output_type": "stream",
     "text": [
      "Epoch 71/100: 100%|██████████| 1524/1524 [00:16<00:00, 94.15it/s] \n"
     ]
    },
    {
     "name": "stdout",
     "output_type": "stream",
     "text": [
      "Epoch 71/100, Train Loss: 0.000005, Test Loss: 0.000003\n"
     ]
    },
    {
     "name": "stderr",
     "output_type": "stream",
     "text": [
      "Epoch 72/100: 100%|██████████| 1524/1524 [00:14<00:00, 108.45it/s]\n"
     ]
    },
    {
     "name": "stdout",
     "output_type": "stream",
     "text": [
      "Epoch 72/100, Train Loss: 0.000005, Test Loss: 0.000002\n"
     ]
    },
    {
     "name": "stderr",
     "output_type": "stream",
     "text": [
      "Epoch 73/100: 100%|██████████| 1524/1524 [00:18<00:00, 81.20it/s] \n"
     ]
    },
    {
     "name": "stdout",
     "output_type": "stream",
     "text": [
      "Epoch 73/100, Train Loss: 0.000004, Test Loss: 0.000002\n"
     ]
    },
    {
     "name": "stderr",
     "output_type": "stream",
     "text": [
      "Epoch 74/100: 100%|██████████| 1524/1524 [00:22<00:00, 69.01it/s]\n"
     ]
    },
    {
     "name": "stdout",
     "output_type": "stream",
     "text": [
      "Epoch 74/100, Train Loss: 0.000005, Test Loss: 0.000002\n"
     ]
    },
    {
     "name": "stderr",
     "output_type": "stream",
     "text": [
      "Epoch 75/100: 100%|██████████| 1524/1524 [00:20<00:00, 73.96it/s]\n"
     ]
    },
    {
     "name": "stdout",
     "output_type": "stream",
     "text": [
      "Epoch 75/100, Train Loss: 0.000004, Test Loss: 0.000002\n"
     ]
    },
    {
     "name": "stderr",
     "output_type": "stream",
     "text": [
      "Epoch 76/100: 100%|██████████| 1524/1524 [00:17<00:00, 89.57it/s]\n"
     ]
    },
    {
     "name": "stdout",
     "output_type": "stream",
     "text": [
      "Epoch 76/100, Train Loss: 0.000004, Test Loss: 0.000002\n"
     ]
    },
    {
     "name": "stderr",
     "output_type": "stream",
     "text": [
      "Epoch 77/100: 100%|██████████| 1524/1524 [00:16<00:00, 90.38it/s] \n"
     ]
    },
    {
     "name": "stdout",
     "output_type": "stream",
     "text": [
      "Epoch 77/100, Train Loss: 0.000005, Test Loss: 0.000003\n"
     ]
    },
    {
     "name": "stderr",
     "output_type": "stream",
     "text": [
      "Epoch 78/100: 100%|██████████| 1524/1524 [00:18<00:00, 80.64it/s]\n"
     ]
    },
    {
     "name": "stdout",
     "output_type": "stream",
     "text": [
      "Epoch 78/100, Train Loss: 0.000005, Test Loss: 0.000002\n"
     ]
    },
    {
     "name": "stderr",
     "output_type": "stream",
     "text": [
      "Epoch 79/100: 100%|██████████| 1524/1524 [00:18<00:00, 80.26it/s]\n"
     ]
    },
    {
     "name": "stdout",
     "output_type": "stream",
     "text": [
      "Epoch 79/100, Train Loss: 0.000004, Test Loss: 0.000003\n"
     ]
    },
    {
     "name": "stderr",
     "output_type": "stream",
     "text": [
      "Epoch 80/100: 100%|██████████| 1524/1524 [00:17<00:00, 88.94it/s] \n"
     ]
    },
    {
     "name": "stdout",
     "output_type": "stream",
     "text": [
      "Epoch 80/100, Train Loss: 0.000005, Test Loss: 0.000002\n"
     ]
    },
    {
     "name": "stderr",
     "output_type": "stream",
     "text": [
      "Epoch 81/100: 100%|██████████| 1524/1524 [00:16<00:00, 94.51it/s] \n"
     ]
    },
    {
     "name": "stdout",
     "output_type": "stream",
     "text": [
      "Epoch 81/100, Train Loss: 0.000005, Test Loss: 0.000003\n"
     ]
    },
    {
     "name": "stderr",
     "output_type": "stream",
     "text": [
      "Epoch 82/100: 100%|██████████| 1524/1524 [00:17<00:00, 88.50it/s]\n"
     ]
    }
   ],
   "source": [
    "def train_model(model, train_loader, test_loader, num_epochs=100, learning_rate=1e-3):\n",
    "    optimizer = optim.Adam(model.parameters(), lr=learning_rate)\n",
    "    criterion = nn.MSELoss()\n",
    "    best_test_loss = float('inf')\n",
    "\n",
    "    for epoch in range(num_epochs):\n",
    "        model.train()\n",
    "        train_loss = 0.0\n",
    "        for x, u, xp in tqdm(train_loader, desc=f\"Epoch {epoch+1}/{num_epochs}\"):\n",
    "            x, u, xp = x.to(DEVICE), u.to(DEVICE), xp.to(DEVICE)\n",
    "            optimizer.zero_grad()\n",
    "            t_span = torch.tensor([0.0, 0.01]).to(DEVICE)\n",
    "            pred_xp = model(x, u, t_span)\n",
    "            loss = criterion(pred_xp, xp)\n",
    "            loss.backward()\n",
    "            optimizer.step()\n",
    "            train_loss += loss.item() * x.size(0)\n",
    "\n",
    "        train_loss /= len(train_loader.dataset)\n",
    "\n",
    "        model.eval()\n",
    "        test_loss = 0.0\n",
    "        with torch.no_grad():\n",
    "            for x, u, xp in test_loader:\n",
    "                x, u, xp = x.to(DEVICE), u.to(DEVICE), xp.to(DEVICE)\n",
    "                t_span = torch.tensor([0.0, 0.01]).to(DEVICE)\n",
    "                pred_xp = model(x, u, t_span)\n",
    "                loss = criterion(pred_xp, xp)\n",
    "                test_loss += loss.item() * x.size(0)\n",
    "\n",
    "        test_loss /= len(test_loader.dataset)\n",
    "\n",
    "        if test_loss < best_test_loss:\n",
    "            best_test_loss = test_loss\n",
    "            # Save the best model\n",
    "            torch.save(model.state_dict(), \"NeuralODE_256.pth\")\n",
    "\n",
    "        print(f\"Epoch {epoch+1}/{num_epochs}, Train Loss: {train_loss:.6f}, Test Loss: {test_loss:.6f}\")  \n",
    "\n",
    "\n",
    "dynamics_func = ODEDynamics(x_dim=N_X_FEATURES, u_dim=N_U_FEATURES).to(DEVICE)\n",
    "neural_ode_model = NeuralODE(dynamics_func).to(DEVICE)\n",
    "train_model(neural_ode_model, train_loader, test_loader, learning_rate=1e-3)  "
   ]
  },
  {
   "cell_type": "code",
   "execution_count": null,
   "id": "18aa7b49",
   "metadata": {},
   "outputs": [],
   "source": [
    "\n",
    "def evaluate_and_plot(model, test_data, scaler_x, n_steps=1):\n",
    "    print(\"\\n--- testing  ---\")\n",
    "    model.eval()\n",
    "    \n",
    "    x_test, u_test, xp_test = test_data[:]\n",
    "    x_test, u_test = x_test.to(DEVICE), u_test.to(DEVICE)\n",
    "    t_span = torch.tensor([0.0, 1.0]).to(DEVICE)\n",
    "\n",
    "    with torch.no_grad():\n",
    "        predictions = []\n",
    "        count = 0\n",
    "        for x, u, xp in test_data:\n",
    "            if count == 0 or count% n_steps == 0:\n",
    "                current_x = x.to(DEVICE).unsqueeze(0) \n",
    "            u_t       = u.to(DEVICE).unsqueeze(0)\n",
    "            predicted_x = model(current_x, u_t, t_span)\n",
    "            predictions.append(predicted_x.cpu().numpy())\n",
    "            current_x = predicted_x \n",
    "            count += 1\n",
    "\n",
    "    predictions = np.concatenate(predictions, axis=0)\n",
    "\n",
    "    preds_rescaled = scaler_x.inverse_transform(predictions)\n",
    "    #preds_rescaled = apply_kalman_filter(preds_rescaled, Q=1e-3, R=1e-3)\n",
    "    true_rescaled = scaler_x.inverse_transform(xp_test.numpy())\n",
    "    \n",
    "    mse = ((preds_rescaled - true_rescaled) ** 2).mean()\n",
    "    print(f\"\\n[Neural ODE] {n_steps} step recursion prediction MSE = {mse:.6e}\")\n",
    "\n",
    " \n",
    "    inital_step = 0\n",
    "    # for i in range(10):\n",
    "    low = inital_step\n",
    "    high = inital_step+5000\n",
    "    plt.figure(figsize=(18, 12))\n",
    "    for i in range(N_X_FEATURES):\n",
    "        plt.subplot(N_X_FEATURES, 1, i + 1)\n",
    "        plt.plot(true_rescaled[low:high, i], label=\"y_true\", color='blue')\n",
    "        plt.plot(preds_rescaled[low:high, i], \"--\", label=\"y_predict\", color='orange')\n",
    "        plt.title(f\"x{i} - Neural ODE ({n_steps}step prediction)\")\n",
    "        if i == 0: plt.legend()\n",
    "    plt.tight_layout()\n",
    "    plt.show()\n",
    "    inital_step += 100\n",
    "\n",
    "HIDDEN_DIM = 256\n",
    "LEARNING_RATE = 1e-4\n",
    "EPOCHS = 100\n",
    "\n",
    "dynamics = ODEDynamics(N_X_FEATURES, N_U_FEATURES, HIDDEN_DIM).to(DEVICE)\n",
    "neural_ode_model = NeuralODE(dynamics).to(DEVICE)\n",
    "\n",
    "neural_ode_model.load_state_dict(torch.load(\"NeuralODE_best.pth\", map_location=DEVICE))\n",
    "evaluate_and_plot(neural_ode_model, test_dataset, scaler_x, n_steps=10)\n"
   ]
  },
  {
   "cell_type": "code",
   "execution_count": null,
   "id": "b9d230a8",
   "metadata": {},
   "outputs": [],
   "source": [
    "N_X_FEATURES = 7\n",
    "N_U_FEATURES = 2\n",
    "HIDDEN_DIM = 256\n",
    "from scipy.io import savemat\n",
    "\n",
    "dynamics = ODEDynamics(N_X_FEATURES, N_U_FEATURES, HIDDEN_DIM)\n",
    "neural_ode_model = NeuralODE(dynamics)\n",
    "\n",
    "# Load the entire model's state dictionary\n",
    "state_dict = torch.load(\"NeuralODE_best.pth\", map_location=torch.device('cpu'))\n",
    "neural_ode_model.load_state_dict(state_dict)\n",
    "print(\"Model 'NeuralODE_best.pth' loaded successfully.\")\n",
    "\n",
    "# Step 3: Extract the weights and biases\n",
    "# The keys in the state_dict correspond to the layers in your nn.Sequential model\n",
    "# 'dynamics_func.net.0.*' is the first fully connected layer\n",
    "# 'dynamics_func.net.2.*' is the second fully connected layer\n",
    "# 'dynamics_func.net.4.*' is the third fully connected layer\n",
    "\n",
    "params = neural_ode_model.state_dict()\n",
    "\n",
    "# Note: PyTorch weights are [out_features, in_features]. \n",
    "# MATLAB fullyConnectedLayer weights are also [out_features, in_features].\n",
    "# However, weights from Python linear layers often need to be transposed for MATLAB.\n",
    "# We will handle this in the MATLAB loading script.\n",
    "w1 = params['dynamics_func.net.0.weight'].numpy()\n",
    "b1 = params['dynamics_func.net.0.bias'].numpy()\n",
    "w2 = params['dynamics_func.net.2.weight'].numpy()\n",
    "b2 = params['dynamics_func.net.2.bias'].numpy()\n",
    "w3 = params['dynamics_func.net.4.weight'].numpy()\n",
    "b3 = params['dynamics_func.net.4.bias'].numpy()\n",
    "\n",
    "# Step 4: Save the parameters to a .mat file\n",
    "mat_dict = {\n",
    "    'fc1_weights': w1, 'fc1_bias': b1,\n",
    "    'fc2_weights': w2, 'fc2_bias': b2,\n",
    "    'fc3_weights': w3, 'fc3_bias': b3\n",
    "}\n",
    "savemat(\"exported_weights.mat\", mat_dict)\n",
    "print(\"Weights have been exported to 'exported_weights.mat'\")"
   ]
  }
 ],
 "metadata": {
  "kernelspec": {
   "display_name": "AE",
   "language": "python",
   "name": "python3"
  },
  "language_info": {
   "codemirror_mode": {
    "name": "ipython",
    "version": 3
   },
   "file_extension": ".py",
   "mimetype": "text/x-python",
   "name": "python",
   "nbconvert_exporter": "python",
   "pygments_lexer": "ipython3",
   "version": "3.10.18"
  }
 },
 "nbformat": 4,
 "nbformat_minor": 5
}
